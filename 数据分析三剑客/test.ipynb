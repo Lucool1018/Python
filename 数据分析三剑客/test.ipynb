{
 "cells": [
  {
   "cell_type": "markdown",
   "id": "43b5467c",
   "metadata": {},
   "source": [
    "# 1.pandas"
   ]
  },
  {
   "cell_type": "markdown",
   "id": "7ca3251d",
   "metadata": {},
   "source": [
    "## 1.1创建对象\n",
    "使用pd.DataFrame()函数"
   ]
  },
  {
   "cell_type": "code",
   "execution_count": 187,
   "id": "261a6368",
   "metadata": {},
   "outputs": [
    {
     "data": {
      "text/html": [
       "<div>\n",
       "<style scoped>\n",
       "    .dataframe tbody tr th:only-of-type {\n",
       "        vertical-align: middle;\n",
       "    }\n",
       "\n",
       "    .dataframe tbody tr th {\n",
       "        vertical-align: top;\n",
       "    }\n",
       "\n",
       "    .dataframe thead th {\n",
       "        text-align: right;\n",
       "    }\n",
       "</style>\n",
       "<table border=\"1\" class=\"dataframe\">\n",
       "  <thead>\n",
       "    <tr style=\"text-align: right;\">\n",
       "      <th></th>\n",
       "      <th>A</th>\n",
       "      <th>B</th>\n",
       "      <th>C</th>\n",
       "      <th>D</th>\n",
       "    </tr>\n",
       "  </thead>\n",
       "  <tbody>\n",
       "    <tr>\n",
       "      <th>2022-01-01</th>\n",
       "      <td>0.755509</td>\n",
       "      <td>0.602097</td>\n",
       "      <td>0.780190</td>\n",
       "      <td>0.950909</td>\n",
       "    </tr>\n",
       "    <tr>\n",
       "      <th>2022-01-02</th>\n",
       "      <td>0.347182</td>\n",
       "      <td>0.749630</td>\n",
       "      <td>0.447924</td>\n",
       "      <td>0.482730</td>\n",
       "    </tr>\n",
       "    <tr>\n",
       "      <th>2022-01-03</th>\n",
       "      <td>0.926854</td>\n",
       "      <td>0.686402</td>\n",
       "      <td>0.730568</td>\n",
       "      <td>0.400955</td>\n",
       "    </tr>\n",
       "    <tr>\n",
       "      <th>2022-01-04</th>\n",
       "      <td>0.573070</td>\n",
       "      <td>0.424080</td>\n",
       "      <td>0.883800</td>\n",
       "      <td>0.636409</td>\n",
       "    </tr>\n",
       "    <tr>\n",
       "      <th>2022-01-05</th>\n",
       "      <td>0.164587</td>\n",
       "      <td>0.520760</td>\n",
       "      <td>0.400180</td>\n",
       "      <td>0.282764</td>\n",
       "    </tr>\n",
       "    <tr>\n",
       "      <th>2022-01-06</th>\n",
       "      <td>0.376653</td>\n",
       "      <td>0.296323</td>\n",
       "      <td>0.436994</td>\n",
       "      <td>0.741869</td>\n",
       "    </tr>\n",
       "  </tbody>\n",
       "</table>\n",
       "</div>"
      ],
      "text/plain": [
       "                   A         B         C         D\n",
       "2022-01-01  0.755509  0.602097  0.780190  0.950909\n",
       "2022-01-02  0.347182  0.749630  0.447924  0.482730\n",
       "2022-01-03  0.926854  0.686402  0.730568  0.400955\n",
       "2022-01-04  0.573070  0.424080  0.883800  0.636409\n",
       "2022-01-05  0.164587  0.520760  0.400180  0.282764\n",
       "2022-01-06  0.376653  0.296323  0.436994  0.741869"
      ]
     },
     "execution_count": 187,
     "metadata": {},
     "output_type": "execute_result"
    }
   ],
   "source": [
    "# 导入需要的第三方库\n",
    "import pandas as pd\n",
    "import numpy as np\n",
    "# 创建一个6行4列，以2022年1月1日为起始日的数据\n",
    "df = pd.DataFrame(np.random.rand(6, 4), index=pd.date_range('20220101', periods=6), columns=list(\"ABCD\"))\n",
    "df"
   ]
  },
  {
   "cell_type": "markdown",
   "id": "beafe6d0",
   "metadata": {},
   "source": [
    "寻找每个月收益率最高的股票 ——apply函数</br>\n",
    "配置参数如下：</br>\n",
    "    \n",
    "    DataFrame.apply(func, axis=0)\n",
    "func 代表函数；axis=0 时表示对每一列进行运算，axis=1 时表示对每一行进行运算"
   ]
  },
  {
   "cell_type": "code",
   "execution_count": 188,
   "id": "7221b130",
   "metadata": {},
   "outputs": [
    {
     "data": {
      "text/plain": [
       "2022-01-01    0.348812\n",
       "2022-01-02    0.402448\n",
       "2022-01-03    0.525899\n",
       "2022-01-04    0.459720\n",
       "2022-01-05    0.356173\n",
       "2022-01-06    0.445546\n",
       "Freq: D, dtype: float64"
      ]
     },
     "execution_count": 188,
     "metadata": {},
     "output_type": "execute_result"
    }
   ],
   "source": [
    "df.apply(max, axis=0) # 使用 max函数求得每一列的最大值\n",
    "# 自定义函数——求极差\n",
    "f = lambda x: x.max()-x.min()\n",
    "df.apply(f, axis=1)"
   ]
  },
  {
   "cell_type": "markdown",
   "id": "06c10350",
   "metadata": {},
   "source": [
    "## 1.1读取文件"
   ]
  },
  {
   "cell_type": "code",
   "execution_count": 189,
   "id": "67bdcb19",
   "metadata": {},
   "outputs": [],
   "source": [
    "file_path = r\"C:\\Users\\Lu_Cool\\Desktop\\PythonQuant_cn\\PythonANS\\Data\\Part2\\001\\history.csv\" #文件路径\n",
    "data = pd.read_csv(file_path) "
   ]
  },
  {
   "cell_type": "markdown",
   "id": "9881e4c8",
   "metadata": {},
   "source": [
    "读取csv文件也可以使用pd.read_table()函数<br/>\n",
    "关于pd.read_xxx()函数中常见参数如下：<br/>\n",
    "    \n",
    "    pd.read_table(file_path, sep=\",\",header=None)\n",
    "file_path 为文件路径，sep 为分隔符，header为None表示选取第0行数据作为列名<br/>"
   ]
  },
  {
   "cell_type": "markdown",
   "id": "be23c87d",
   "metadata": {},
   "source": [
    "## 1.2查看对象\n",
    "当数据量过大的时候我们往往只选取其中的一部分来查看"
   ]
  },
  {
   "cell_type": "code",
   "execution_count": 190,
   "id": "36c54902",
   "metadata": {},
   "outputs": [
    {
     "data": {
      "text/plain": [
       "array([[0.0119, 0.0393, 0.0178, ..., 0.018, -0.0166, '1997-01-31'],\n",
       "       [0.0123, 0.0298, 0.0122, ..., 0.0118, 0.0426, '1997-02-28'],\n",
       "       [0.0078, -0.0021, -0.0012, ..., 0.001, 0.0778, '1997-03-31'],\n",
       "       ...,\n",
       "       [0.0241, -0.0147, 0.0198, ..., 0.0101, -0.0094, '2009-06-30'],\n",
       "       [0.0611, -0.0012, 0.0311, ..., 0.026, -0.0596, '2009-07-31'],\n",
       "       [0.0315, 0.0054, 0.0244, ..., 0.0162, -0.0165, '2009-08-31']],\n",
       "      dtype=object)"
      ]
     },
     "execution_count": 190,
     "metadata": {},
     "output_type": "execute_result"
    }
   ],
   "source": [
    "data # 直接使用对象名来访问\n",
    "data.head() #查看头部的五行\n",
    "data.tail() #查看末尾五行\n",
    "data.columns #查看列名\n",
    "data.index #查看行名\n",
    "data.values # 查看数据值(以数组形式)"
   ]
  },
  {
   "cell_type": "markdown",
   "id": "300b021a",
   "metadata": {},
   "source": [
    "## 1.3 DataFrame对象的索引与切片"
   ]
  },
  {
   "cell_type": "code",
   "execution_count": 191,
   "id": "64544a96",
   "metadata": {
    "collapsed": true
   },
   "outputs": [
    {
     "data": {
      "text/html": [
       "<div>\n",
       "<style scoped>\n",
       "    .dataframe tbody tr th:only-of-type {\n",
       "        vertical-align: middle;\n",
       "    }\n",
       "\n",
       "    .dataframe tbody tr th {\n",
       "        vertical-align: top;\n",
       "    }\n",
       "\n",
       "    .dataframe thead th {\n",
       "        text-align: right;\n",
       "    }\n",
       "</style>\n",
       "<table border=\"1\" class=\"dataframe\">\n",
       "  <thead>\n",
       "    <tr style=\"text-align: right;\">\n",
       "      <th></th>\n",
       "      <th>Convertible.Arbitrage</th>\n",
       "      <th>CTA.Global</th>\n",
       "      <th>Distressed.Securities</th>\n",
       "      <th>Emerging.Markets</th>\n",
       "      <th>Equity.Market.Neutral</th>\n",
       "      <th>Event.Driven</th>\n",
       "      <th>Fixed.Income.Arbitrage</th>\n",
       "      <th>Global.Macro</th>\n",
       "      <th>Long.Short.Equity</th>\n",
       "      <th>Merger.Arbitrage</th>\n",
       "      <th>Relative.Value</th>\n",
       "      <th>Short.Selling</th>\n",
       "      <th>Date</th>\n",
       "    </tr>\n",
       "  </thead>\n",
       "  <tbody>\n",
       "    <tr>\n",
       "      <th>0</th>\n",
       "      <td>0.0119</td>\n",
       "      <td>0.0393</td>\n",
       "      <td>0.0178</td>\n",
       "      <td>0.0791</td>\n",
       "      <td>0.0189</td>\n",
       "      <td>0.0213</td>\n",
       "      <td>0.0191</td>\n",
       "      <td>0.0573</td>\n",
       "      <td>0.0281</td>\n",
       "      <td>0.0150</td>\n",
       "      <td>0.0180</td>\n",
       "      <td>-0.0166</td>\n",
       "      <td>1997-01-31</td>\n",
       "    </tr>\n",
       "    <tr>\n",
       "      <th>1</th>\n",
       "      <td>0.0123</td>\n",
       "      <td>0.0298</td>\n",
       "      <td>0.0122</td>\n",
       "      <td>0.0525</td>\n",
       "      <td>0.0101</td>\n",
       "      <td>0.0084</td>\n",
       "      <td>0.0122</td>\n",
       "      <td>0.0175</td>\n",
       "      <td>-0.0006</td>\n",
       "      <td>0.0034</td>\n",
       "      <td>0.0118</td>\n",
       "      <td>0.0426</td>\n",
       "      <td>1997-02-28</td>\n",
       "    </tr>\n",
       "    <tr>\n",
       "      <th>3</th>\n",
       "      <td>0.0086</td>\n",
       "      <td>-0.0170</td>\n",
       "      <td>0.0030</td>\n",
       "      <td>0.0119</td>\n",
       "      <td>0.0119</td>\n",
       "      <td>-0.0005</td>\n",
       "      <td>0.0130</td>\n",
       "      <td>0.0172</td>\n",
       "      <td>0.0084</td>\n",
       "      <td>-0.0001</td>\n",
       "      <td>0.0122</td>\n",
       "      <td>-0.0129</td>\n",
       "      <td>1997-04-30</td>\n",
       "    </tr>\n",
       "    <tr>\n",
       "      <th>4</th>\n",
       "      <td>0.0156</td>\n",
       "      <td>-0.0015</td>\n",
       "      <td>0.0233</td>\n",
       "      <td>0.0315</td>\n",
       "      <td>0.0189</td>\n",
       "      <td>0.0346</td>\n",
       "      <td>0.0118</td>\n",
       "      <td>0.0108</td>\n",
       "      <td>0.0394</td>\n",
       "      <td>0.0197</td>\n",
       "      <td>0.0173</td>\n",
       "      <td>-0.0737</td>\n",
       "      <td>1997-05-31</td>\n",
       "    </tr>\n",
       "    <tr>\n",
       "      <th>5</th>\n",
       "      <td>0.0212</td>\n",
       "      <td>0.0085</td>\n",
       "      <td>0.0217</td>\n",
       "      <td>0.0581</td>\n",
       "      <td>0.0165</td>\n",
       "      <td>0.0258</td>\n",
       "      <td>0.0108</td>\n",
       "      <td>0.0218</td>\n",
       "      <td>0.0223</td>\n",
       "      <td>0.0231</td>\n",
       "      <td>0.0198</td>\n",
       "      <td>-0.0065</td>\n",
       "      <td>1997-06-30</td>\n",
       "    </tr>\n",
       "    <tr>\n",
       "      <th>...</th>\n",
       "      <td>...</td>\n",
       "      <td>...</td>\n",
       "      <td>...</td>\n",
       "      <td>...</td>\n",
       "      <td>...</td>\n",
       "      <td>...</td>\n",
       "      <td>...</td>\n",
       "      <td>...</td>\n",
       "      <td>...</td>\n",
       "      <td>...</td>\n",
       "      <td>...</td>\n",
       "      <td>...</td>\n",
       "      <td>...</td>\n",
       "    </tr>\n",
       "    <tr>\n",
       "      <th>147</th>\n",
       "      <td>0.0500</td>\n",
       "      <td>-0.0140</td>\n",
       "      <td>0.0387</td>\n",
       "      <td>0.0663</td>\n",
       "      <td>-0.0012</td>\n",
       "      <td>0.0337</td>\n",
       "      <td>0.0221</td>\n",
       "      <td>0.0127</td>\n",
       "      <td>0.0375</td>\n",
       "      <td>0.0081</td>\n",
       "      <td>0.0342</td>\n",
       "      <td>-0.0820</td>\n",
       "      <td>2009-04-30</td>\n",
       "    </tr>\n",
       "    <tr>\n",
       "      <th>148</th>\n",
       "      <td>0.0578</td>\n",
       "      <td>0.0213</td>\n",
       "      <td>0.0504</td>\n",
       "      <td>0.0884</td>\n",
       "      <td>0.0146</td>\n",
       "      <td>0.0442</td>\n",
       "      <td>0.0365</td>\n",
       "      <td>0.0348</td>\n",
       "      <td>0.0516</td>\n",
       "      <td>0.0107</td>\n",
       "      <td>0.0392</td>\n",
       "      <td>0.0008</td>\n",
       "      <td>2009-05-31</td>\n",
       "    </tr>\n",
       "    <tr>\n",
       "      <th>149</th>\n",
       "      <td>0.0241</td>\n",
       "      <td>-0.0147</td>\n",
       "      <td>0.0198</td>\n",
       "      <td>0.0013</td>\n",
       "      <td>0.0036</td>\n",
       "      <td>0.0123</td>\n",
       "      <td>0.0126</td>\n",
       "      <td>-0.0076</td>\n",
       "      <td>0.0009</td>\n",
       "      <td>0.0104</td>\n",
       "      <td>0.0101</td>\n",
       "      <td>-0.0094</td>\n",
       "      <td>2009-06-30</td>\n",
       "    </tr>\n",
       "    <tr>\n",
       "      <th>150</th>\n",
       "      <td>0.0611</td>\n",
       "      <td>-0.0012</td>\n",
       "      <td>0.0311</td>\n",
       "      <td>0.0451</td>\n",
       "      <td>0.0042</td>\n",
       "      <td>0.0291</td>\n",
       "      <td>0.0322</td>\n",
       "      <td>0.0166</td>\n",
       "      <td>0.0277</td>\n",
       "      <td>0.0068</td>\n",
       "      <td>0.0260</td>\n",
       "      <td>-0.0596</td>\n",
       "      <td>2009-07-31</td>\n",
       "    </tr>\n",
       "    <tr>\n",
       "      <th>151</th>\n",
       "      <td>0.0315</td>\n",
       "      <td>0.0054</td>\n",
       "      <td>0.0244</td>\n",
       "      <td>0.0166</td>\n",
       "      <td>0.0070</td>\n",
       "      <td>0.0207</td>\n",
       "      <td>0.0202</td>\n",
       "      <td>0.0050</td>\n",
       "      <td>0.0157</td>\n",
       "      <td>0.0102</td>\n",
       "      <td>0.0162</td>\n",
       "      <td>-0.0165</td>\n",
       "      <td>2009-08-31</td>\n",
       "    </tr>\n",
       "  </tbody>\n",
       "</table>\n",
       "<p>114 rows × 13 columns</p>\n",
       "</div>"
      ],
      "text/plain": [
       "     Convertible.Arbitrage  CTA.Global  Distressed.Securities  \\\n",
       "0                   0.0119      0.0393                 0.0178   \n",
       "1                   0.0123      0.0298                 0.0122   \n",
       "3                   0.0086     -0.0170                 0.0030   \n",
       "4                   0.0156     -0.0015                 0.0233   \n",
       "5                   0.0212      0.0085                 0.0217   \n",
       "..                     ...         ...                    ...   \n",
       "147                 0.0500     -0.0140                 0.0387   \n",
       "148                 0.0578      0.0213                 0.0504   \n",
       "149                 0.0241     -0.0147                 0.0198   \n",
       "150                 0.0611     -0.0012                 0.0311   \n",
       "151                 0.0315      0.0054                 0.0244   \n",
       "\n",
       "     Emerging.Markets  Equity.Market.Neutral  Event.Driven  \\\n",
       "0              0.0791                 0.0189        0.0213   \n",
       "1              0.0525                 0.0101        0.0084   \n",
       "3              0.0119                 0.0119       -0.0005   \n",
       "4              0.0315                 0.0189        0.0346   \n",
       "5              0.0581                 0.0165        0.0258   \n",
       "..                ...                    ...           ...   \n",
       "147            0.0663                -0.0012        0.0337   \n",
       "148            0.0884                 0.0146        0.0442   \n",
       "149            0.0013                 0.0036        0.0123   \n",
       "150            0.0451                 0.0042        0.0291   \n",
       "151            0.0166                 0.0070        0.0207   \n",
       "\n",
       "     Fixed.Income.Arbitrage  Global.Macro  Long.Short.Equity  \\\n",
       "0                    0.0191        0.0573             0.0281   \n",
       "1                    0.0122        0.0175            -0.0006   \n",
       "3                    0.0130        0.0172             0.0084   \n",
       "4                    0.0118        0.0108             0.0394   \n",
       "5                    0.0108        0.0218             0.0223   \n",
       "..                      ...           ...                ...   \n",
       "147                  0.0221        0.0127             0.0375   \n",
       "148                  0.0365        0.0348             0.0516   \n",
       "149                  0.0126       -0.0076             0.0009   \n",
       "150                  0.0322        0.0166             0.0277   \n",
       "151                  0.0202        0.0050             0.0157   \n",
       "\n",
       "     Merger.Arbitrage  Relative.Value  Short.Selling        Date  \n",
       "0              0.0150          0.0180        -0.0166  1997-01-31  \n",
       "1              0.0034          0.0118         0.0426  1997-02-28  \n",
       "3             -0.0001          0.0122        -0.0129  1997-04-30  \n",
       "4              0.0197          0.0173        -0.0737  1997-05-31  \n",
       "5              0.0231          0.0198        -0.0065  1997-06-30  \n",
       "..                ...             ...            ...         ...  \n",
       "147            0.0081          0.0342        -0.0820  2009-04-30  \n",
       "148            0.0107          0.0392         0.0008  2009-05-31  \n",
       "149            0.0104          0.0101        -0.0094  2009-06-30  \n",
       "150            0.0068          0.0260        -0.0596  2009-07-31  \n",
       "151            0.0102          0.0162        -0.0165  2009-08-31  \n",
       "\n",
       "[114 rows x 13 columns]"
      ]
     },
     "execution_count": 191,
     "metadata": {},
     "output_type": "execute_result"
    }
   ],
   "source": [
    "# 行切片\n",
    "data[1:3]\n",
    "# 单独提取某一列\n",
    "data[\"CTA.Global\"]\n",
    "# 提取某几列\n",
    "data[[\"CTA.Global\",\"Distressed.Securities\"]]\n",
    "# 根据boolean值提取\n",
    "data[data[\"Distressed.Securities\"]>0]\n",
    "# 注意：列切片无法进行，同时对行和列进行操作也会出错"
   ]
  },
  {
   "cell_type": "markdown",
   "id": "be054cb8",
   "metadata": {},
   "source": [
    "### loc函数与iloc函数\n",
    "loc函数是标签名索引<br>\n",
    "data.loc[row_indexer, column_indexer]\n",
    "\n",
    "iloc函数是位置索引<br>\n",
    "data.iloc[row_indexer, column_indexer]\n",
    "\n",
    "**注意： 无论是iolc还是loc函数都是中括号[ ]，而非小括号**"
   ]
  },
  {
   "cell_type": "code",
   "execution_count": 192,
   "id": "c54bf605",
   "metadata": {
    "collapsed": true
   },
   "outputs": [
    {
     "data": {
      "text/html": [
       "<div>\n",
       "<style scoped>\n",
       "    .dataframe tbody tr th:only-of-type {\n",
       "        vertical-align: middle;\n",
       "    }\n",
       "\n",
       "    .dataframe tbody tr th {\n",
       "        vertical-align: top;\n",
       "    }\n",
       "\n",
       "    .dataframe thead th {\n",
       "        text-align: right;\n",
       "    }\n",
       "</style>\n",
       "<table border=\"1\" class=\"dataframe\">\n",
       "  <thead>\n",
       "    <tr style=\"text-align: right;\">\n",
       "      <th></th>\n",
       "      <th>Convertible.Arbitrage</th>\n",
       "      <th>CTA.Global</th>\n",
       "      <th>Distressed.Securities</th>\n",
       "      <th>Emerging.Markets</th>\n",
       "      <th>Equity.Market.Neutral</th>\n",
       "      <th>Event.Driven</th>\n",
       "      <th>Fixed.Income.Arbitrage</th>\n",
       "      <th>Global.Macro</th>\n",
       "      <th>Long.Short.Equity</th>\n",
       "      <th>Merger.Arbitrage</th>\n",
       "      <th>Relative.Value</th>\n",
       "      <th>Short.Selling</th>\n",
       "      <th>Date</th>\n",
       "    </tr>\n",
       "  </thead>\n",
       "  <tbody>\n",
       "    <tr>\n",
       "      <th>0</th>\n",
       "      <td>0.0119</td>\n",
       "      <td>0.0393</td>\n",
       "      <td>0.0178</td>\n",
       "      <td>0.0791</td>\n",
       "      <td>0.0189</td>\n",
       "      <td>0.0213</td>\n",
       "      <td>0.0191</td>\n",
       "      <td>0.0573</td>\n",
       "      <td>0.0281</td>\n",
       "      <td>0.0150</td>\n",
       "      <td>0.0180</td>\n",
       "      <td>-0.0166</td>\n",
       "      <td>1997-01-31</td>\n",
       "    </tr>\n",
       "    <tr>\n",
       "      <th>1</th>\n",
       "      <td>0.0123</td>\n",
       "      <td>0.0298</td>\n",
       "      <td>0.0122</td>\n",
       "      <td>0.0525</td>\n",
       "      <td>0.0101</td>\n",
       "      <td>0.0084</td>\n",
       "      <td>0.0122</td>\n",
       "      <td>0.0175</td>\n",
       "      <td>-0.0006</td>\n",
       "      <td>0.0034</td>\n",
       "      <td>0.0118</td>\n",
       "      <td>0.0426</td>\n",
       "      <td>1997-02-28</td>\n",
       "    </tr>\n",
       "    <tr>\n",
       "      <th>2</th>\n",
       "      <td>0.0078</td>\n",
       "      <td>-0.0021</td>\n",
       "      <td>-0.0012</td>\n",
       "      <td>-0.0120</td>\n",
       "      <td>0.0016</td>\n",
       "      <td>-0.0023</td>\n",
       "      <td>0.0109</td>\n",
       "      <td>-0.0119</td>\n",
       "      <td>-0.0084</td>\n",
       "      <td>0.0060</td>\n",
       "      <td>0.0010</td>\n",
       "      <td>0.0778</td>\n",
       "      <td>1997-03-31</td>\n",
       "    </tr>\n",
       "    <tr>\n",
       "      <th>3</th>\n",
       "      <td>0.0086</td>\n",
       "      <td>-0.0170</td>\n",
       "      <td>0.0030</td>\n",
       "      <td>0.0119</td>\n",
       "      <td>0.0119</td>\n",
       "      <td>-0.0005</td>\n",
       "      <td>0.0130</td>\n",
       "      <td>0.0172</td>\n",
       "      <td>0.0084</td>\n",
       "      <td>-0.0001</td>\n",
       "      <td>0.0122</td>\n",
       "      <td>-0.0129</td>\n",
       "      <td>1997-04-30</td>\n",
       "    </tr>\n",
       "    <tr>\n",
       "      <th>4</th>\n",
       "      <td>0.0156</td>\n",
       "      <td>-0.0015</td>\n",
       "      <td>0.0233</td>\n",
       "      <td>0.0315</td>\n",
       "      <td>0.0189</td>\n",
       "      <td>0.0346</td>\n",
       "      <td>0.0118</td>\n",
       "      <td>0.0108</td>\n",
       "      <td>0.0394</td>\n",
       "      <td>0.0197</td>\n",
       "      <td>0.0173</td>\n",
       "      <td>-0.0737</td>\n",
       "      <td>1997-05-31</td>\n",
       "    </tr>\n",
       "    <tr>\n",
       "      <th>...</th>\n",
       "      <td>...</td>\n",
       "      <td>...</td>\n",
       "      <td>...</td>\n",
       "      <td>...</td>\n",
       "      <td>...</td>\n",
       "      <td>...</td>\n",
       "      <td>...</td>\n",
       "      <td>...</td>\n",
       "      <td>...</td>\n",
       "      <td>...</td>\n",
       "      <td>...</td>\n",
       "      <td>...</td>\n",
       "      <td>...</td>\n",
       "    </tr>\n",
       "    <tr>\n",
       "      <th>147</th>\n",
       "      <td>0.0500</td>\n",
       "      <td>-0.0140</td>\n",
       "      <td>0.0387</td>\n",
       "      <td>0.0663</td>\n",
       "      <td>-0.0012</td>\n",
       "      <td>0.0337</td>\n",
       "      <td>0.0221</td>\n",
       "      <td>0.0127</td>\n",
       "      <td>0.0375</td>\n",
       "      <td>0.0081</td>\n",
       "      <td>0.0342</td>\n",
       "      <td>-0.0820</td>\n",
       "      <td>2009-04-30</td>\n",
       "    </tr>\n",
       "    <tr>\n",
       "      <th>148</th>\n",
       "      <td>0.0578</td>\n",
       "      <td>0.0213</td>\n",
       "      <td>0.0504</td>\n",
       "      <td>0.0884</td>\n",
       "      <td>0.0146</td>\n",
       "      <td>0.0442</td>\n",
       "      <td>0.0365</td>\n",
       "      <td>0.0348</td>\n",
       "      <td>0.0516</td>\n",
       "      <td>0.0107</td>\n",
       "      <td>0.0392</td>\n",
       "      <td>0.0008</td>\n",
       "      <td>2009-05-31</td>\n",
       "    </tr>\n",
       "    <tr>\n",
       "      <th>149</th>\n",
       "      <td>0.0241</td>\n",
       "      <td>-0.0147</td>\n",
       "      <td>0.0198</td>\n",
       "      <td>0.0013</td>\n",
       "      <td>0.0036</td>\n",
       "      <td>0.0123</td>\n",
       "      <td>0.0126</td>\n",
       "      <td>-0.0076</td>\n",
       "      <td>0.0009</td>\n",
       "      <td>0.0104</td>\n",
       "      <td>0.0101</td>\n",
       "      <td>-0.0094</td>\n",
       "      <td>2009-06-30</td>\n",
       "    </tr>\n",
       "    <tr>\n",
       "      <th>150</th>\n",
       "      <td>0.0611</td>\n",
       "      <td>-0.0012</td>\n",
       "      <td>0.0311</td>\n",
       "      <td>0.0451</td>\n",
       "      <td>0.0042</td>\n",
       "      <td>0.0291</td>\n",
       "      <td>0.0322</td>\n",
       "      <td>0.0166</td>\n",
       "      <td>0.0277</td>\n",
       "      <td>0.0068</td>\n",
       "      <td>0.0260</td>\n",
       "      <td>-0.0596</td>\n",
       "      <td>2009-07-31</td>\n",
       "    </tr>\n",
       "    <tr>\n",
       "      <th>151</th>\n",
       "      <td>0.0315</td>\n",
       "      <td>0.0054</td>\n",
       "      <td>0.0244</td>\n",
       "      <td>0.0166</td>\n",
       "      <td>0.0070</td>\n",
       "      <td>0.0207</td>\n",
       "      <td>0.0202</td>\n",
       "      <td>0.0050</td>\n",
       "      <td>0.0157</td>\n",
       "      <td>0.0102</td>\n",
       "      <td>0.0162</td>\n",
       "      <td>-0.0165</td>\n",
       "      <td>2009-08-31</td>\n",
       "    </tr>\n",
       "  </tbody>\n",
       "</table>\n",
       "<p>124 rows × 13 columns</p>\n",
       "</div>"
      ],
      "text/plain": [
       "     Convertible.Arbitrage  CTA.Global  Distressed.Securities  \\\n",
       "0                   0.0119      0.0393                 0.0178   \n",
       "1                   0.0123      0.0298                 0.0122   \n",
       "2                   0.0078     -0.0021                -0.0012   \n",
       "3                   0.0086     -0.0170                 0.0030   \n",
       "4                   0.0156     -0.0015                 0.0233   \n",
       "..                     ...         ...                    ...   \n",
       "147                 0.0500     -0.0140                 0.0387   \n",
       "148                 0.0578      0.0213                 0.0504   \n",
       "149                 0.0241     -0.0147                 0.0198   \n",
       "150                 0.0611     -0.0012                 0.0311   \n",
       "151                 0.0315      0.0054                 0.0244   \n",
       "\n",
       "     Emerging.Markets  Equity.Market.Neutral  Event.Driven  \\\n",
       "0              0.0791                 0.0189        0.0213   \n",
       "1              0.0525                 0.0101        0.0084   \n",
       "2             -0.0120                 0.0016       -0.0023   \n",
       "3              0.0119                 0.0119       -0.0005   \n",
       "4              0.0315                 0.0189        0.0346   \n",
       "..                ...                    ...           ...   \n",
       "147            0.0663                -0.0012        0.0337   \n",
       "148            0.0884                 0.0146        0.0442   \n",
       "149            0.0013                 0.0036        0.0123   \n",
       "150            0.0451                 0.0042        0.0291   \n",
       "151            0.0166                 0.0070        0.0207   \n",
       "\n",
       "     Fixed.Income.Arbitrage  Global.Macro  Long.Short.Equity  \\\n",
       "0                    0.0191        0.0573             0.0281   \n",
       "1                    0.0122        0.0175            -0.0006   \n",
       "2                    0.0109       -0.0119            -0.0084   \n",
       "3                    0.0130        0.0172             0.0084   \n",
       "4                    0.0118        0.0108             0.0394   \n",
       "..                      ...           ...                ...   \n",
       "147                  0.0221        0.0127             0.0375   \n",
       "148                  0.0365        0.0348             0.0516   \n",
       "149                  0.0126       -0.0076             0.0009   \n",
       "150                  0.0322        0.0166             0.0277   \n",
       "151                  0.0202        0.0050             0.0157   \n",
       "\n",
       "     Merger.Arbitrage  Relative.Value  Short.Selling        Date  \n",
       "0              0.0150          0.0180        -0.0166  1997-01-31  \n",
       "1              0.0034          0.0118         0.0426  1997-02-28  \n",
       "2              0.0060          0.0010         0.0778  1997-03-31  \n",
       "3             -0.0001          0.0122        -0.0129  1997-04-30  \n",
       "4              0.0197          0.0173        -0.0737  1997-05-31  \n",
       "..                ...             ...            ...         ...  \n",
       "147            0.0081          0.0342        -0.0820  2009-04-30  \n",
       "148            0.0107          0.0392         0.0008  2009-05-31  \n",
       "149            0.0104          0.0101        -0.0094  2009-06-30  \n",
       "150            0.0068          0.0260        -0.0596  2009-07-31  \n",
       "151            0.0102          0.0162        -0.0165  2009-08-31  \n",
       "\n",
       "[124 rows x 13 columns]"
      ]
     },
     "execution_count": 192,
     "metadata": {},
     "output_type": "execute_result"
    }
   ],
   "source": [
    "# loc函数\n",
    "# 提取某一列数据\n",
    "data.loc[:,\"Distressed.Securities\"]\n",
    "# 提取某几列数据\n",
    "data.loc[:,\"Distressed.Securities\":\"Fixed.Income.Arbitrage\"]\n",
    "# 提取特定的行和列\n",
    "data.loc[:,\"Distressed.Securities\":\"Fixed.Income.Arbitrage\"]\n",
    "# 根据boolean值提取\n",
    "data.loc[data.loc[:,\"Fixed.Income.Arbitrage\"]>0]"
   ]
  },
  {
   "cell_type": "code",
   "execution_count": 193,
   "id": "13d106ad",
   "metadata": {
    "collapsed": true
   },
   "outputs": [
    {
     "data": {
      "text/html": [
       "<div>\n",
       "<style scoped>\n",
       "    .dataframe tbody tr th:only-of-type {\n",
       "        vertical-align: middle;\n",
       "    }\n",
       "\n",
       "    .dataframe tbody tr th {\n",
       "        vertical-align: top;\n",
       "    }\n",
       "\n",
       "    .dataframe thead th {\n",
       "        text-align: right;\n",
       "    }\n",
       "</style>\n",
       "<table border=\"1\" class=\"dataframe\">\n",
       "  <thead>\n",
       "    <tr style=\"text-align: right;\">\n",
       "      <th></th>\n",
       "      <th>Convertible.Arbitrage</th>\n",
       "      <th>CTA.Global</th>\n",
       "    </tr>\n",
       "  </thead>\n",
       "  <tbody>\n",
       "    <tr>\n",
       "      <th>0</th>\n",
       "      <td>0.0119</td>\n",
       "      <td>0.0393</td>\n",
       "    </tr>\n",
       "    <tr>\n",
       "      <th>1</th>\n",
       "      <td>0.0123</td>\n",
       "      <td>0.0298</td>\n",
       "    </tr>\n",
       "    <tr>\n",
       "      <th>2</th>\n",
       "      <td>0.0078</td>\n",
       "      <td>-0.0021</td>\n",
       "    </tr>\n",
       "  </tbody>\n",
       "</table>\n",
       "</div>"
      ],
      "text/plain": [
       "   Convertible.Arbitrage  CTA.Global\n",
       "0                 0.0119      0.0393\n",
       "1                 0.0123      0.0298\n",
       "2                 0.0078     -0.0021"
      ]
     },
     "execution_count": 193,
     "metadata": {},
     "output_type": "execute_result"
    }
   ],
   "source": [
    "# iloc函数\n",
    "# 提取某一行数据\n",
    "data.iloc[2]\n",
    "# 提取某一列数据\n",
    "data.iloc[:,2]\n",
    "# 切片操作\n",
    "data.iloc[0:3,0:2]"
   ]
  },
  {
   "cell_type": "markdown",
   "id": "9b33fef1",
   "metadata": {},
   "source": [
    "## 1.4DataFrame的操作"
   ]
  },
  {
   "cell_type": "code",
   "execution_count": 205,
   "id": "5514eb9c",
   "metadata": {},
   "outputs": [],
   "source": [
    "# 转置\n",
    "data.T\n",
    "# 排序与排名\n",
    "data.sort_index(ascending=True) #按照索引进行排序\n",
    "data.sort_values(\"Fixed.Income.Arbitrage\") # 按照某一列的值进行排序\n",
    "# 追加行和列——append函数和concat函数\n",
    "df = pd.DataFrame(np.random.rand(2,13))\n",
    "data.append(df)\n",
    "pd.concat([data, df],join=\"inner\") # join参数的属性，如果为’inner’得到的是两表的交集，如果是outer，得到的是两表的并集\n",
    "# 删除数据 ——drop函数和del函数\n",
    "data.drop(\"Fixed.Income.Arbitrage\", axis=1)\n",
    "# del data[\"Fixed.Income.Arbitrage\"]\n",
    "#替换操作\n",
    "data.loc[:, \"Fixed.Income.Arbitrage\"] = np.arange(0,len(data))    "
   ]
  },
  {
   "cell_type": "markdown",
   "id": "3eeb98f1",
   "metadata": {},
   "source": [
    "## 1.5描述性统计"
   ]
  },
  {
   "cell_type": "code",
   "execution_count": 15,
   "id": "1e9f92c7",
   "metadata": {},
   "outputs": [
    {
     "data": {
      "text/plain": [
       "0.0385714352008603"
      ]
     },
     "execution_count": 15,
     "metadata": {},
     "output_type": "execute_result"
    }
   ],
   "source": [
    "# 对新兴市场风格对冲基金收益率进行描述性统计 ——describe函数\n",
    "EM_data = data['Emerging.Markets']\n",
    "EM_data.describe()\n",
    "#计算算术平均数 ——使用mean函数\n",
    "EM_data.mean()\n",
    "# 计算中位数 ——median函数\n",
    "EM_data.median()\n",
    "# 计算众数 ——mode函数\n",
    "EM_data.mode()\n",
    "# 计算10分位数和90分位数 ——quantile函数\n",
    "[EM_data.quantile() for i in [0.1, 0.9]] # 方式二\n",
    "EM_data.quantile([0.1,0.9])\n",
    "\n",
    "# 求极差range ——max函数和min函数\n",
    "EM_data.max() - EM_data.min()\n",
    "# 计算平均绝对偏差 ——mad函数\n",
    "mad = sum([abs(x - EM_data.mean()) for x in EM_data]\n",
    "         )/len(EM_data) # 不使用mad函数求得平均绝对偏差\n",
    "EM_data.mad() # 使用mad函数\n",
    "# 求标准差 ——std函数\n",
    "EM_data.std()"
   ]
  },
  {
   "cell_type": "markdown",
   "id": "fb170991",
   "metadata": {},
   "source": [
    "# 2.matplotlib"
   ]
  },
  {
   "cell_type": "markdown",
   "id": "390cad6e",
   "metadata": {},
   "source": [
    "## 2.1 修改图象属性"
   ]
  },
  {
   "cell_type": "code",
   "execution_count": 80,
   "id": "95eecf57",
   "metadata": {},
   "outputs": [],
   "source": [
    "# 导入需要的第三方库\n",
    "import matplotlib.pyplot as plt\n",
    "# 绘制收益率曲线对比图\n",
    "FIA__data = data['Fixed.Income.Arbitrage']\n",
    "RV_data = data['Relative.Value']"
   ]
  },
  {
   "cell_type": "markdown",
   "id": "b27c94f7",
   "metadata": {},
   "source": [
    "### 2.1.1使用xlim和ylim调整坐标轴范围\n",
    "plt.xlim(min, max)"
   ]
  },
  {
   "cell_type": "code",
   "execution_count": 81,
   "id": "7d525f82",
   "metadata": {
    "collapsed": true
   },
   "outputs": [
    {
     "data": {
      "text/plain": [
       "(-1.0, 9.0)"
      ]
     },
     "execution_count": 81,
     "metadata": {},
     "output_type": "execute_result"
    },
    {
     "data": {
      "image/png": "[encoded data removed]",
      "text/plain": [
       "<Figure size 432x288 with 1 Axes>"
      ]
     },
     "metadata": {
      "needs_background": "light"
     },
     "output_type": "display_data"
    }
   ],
   "source": [
    "# 调节x，y轴范围\n",
    "plt.plot([1,1,0,0,-1,0,1,1,-1])\n",
    "plt.ylim(-1.5, 1.5)\n",
    "plt.xlim(-1, 9)"
   ]
  },
  {
   "cell_type": "markdown",
   "id": "0e112118",
   "metadata": {},
   "source": [
    "### 2.1.2设定坐标标签和显示角度\n",
    "plt.xticks(location, labels)\n",
    "\n",
    "location表示坐标位置\n",
    "\n",
    "labels表示坐标的标签"
   ]
  },
  {
   "cell_type": "code",
   "execution_count": 82,
   "id": "ae56606c",
   "metadata": {
    "collapsed": true
   },
   "outputs": [
    {
     "data": {
      "image/png": "[encoded data removed]",
      "text/plain": [
       "<Figure size 432x288 with 1 Axes>"
      ]
     },
     "metadata": {
      "needs_background": "light"
     },
     "output_type": "display_data"
    }
   ],
   "source": [
    "plt.plot([1,1,0,0,-1,0,1,1,-1])\n",
    "plt.xticks(range(9),pd.date_range(\"20220101\", periods=9).strftime(\"%y-%m-%d\").to_list(), rotation=45)\n",
    "plt.show()"
   ]
  },
  {
   "cell_type": "markdown",
   "id": "c6f58edf",
   "metadata": {},
   "source": [
    "## 2.2添加文本"
   ]
  },
  {
   "cell_type": "markdown",
   "id": "baa463fd",
   "metadata": {},
   "source": [
    "### 2.2.1添加标题\n",
    "\n",
    "    plt.title(s,loc)\n",
    "\n",
    "s表示传入的参数必须为字符串类型\n",
    "\n",
    "loc表示标题位置——center、left和right三种"
   ]
  },
  {
   "cell_type": "code",
   "execution_count": 83,
   "id": "d41a4647",
   "metadata": {
    "collapsed": true
   },
   "outputs": [
    {
     "data": {
      "text/plain": [
       "Text(0.5, 1.0, '固定收益套利模型收益率曲线')"
      ]
     },
     "execution_count": 83,
     "metadata": {},
     "output_type": "execute_result"
    },
    {
     "data": {
      "image/png": "[encoded data removed]",
      "text/plain": [
       "<Figure size 432x288 with 1 Axes>"
      ]
     },
     "metadata": {
      "needs_background": "light"
     },
     "output_type": "display_data"
    }
   ],
   "source": [
    "from pylab import mpl\n",
    "mpl.rcParams['font.sans-serif'] = ['FangSong'] # 指定默认字体\n",
    "mpl.rcParams['axes.unicode_minus'] = False # 解决保存图像是负号'-'显示为方块的问题\n",
    "plt.plot(FIA__data)\n",
    "plt.title(\"固定收益套利模型收益率曲线\", loc=\"center\")"
   ]
  },
  {
   "cell_type": "markdown",
   "id": "f702c2d7",
   "metadata": {},
   "source": [
    "### 2.2.2设置坐标轴标签\n",
    "xlabel(\"str\")\n",
    "\n",
    "ylabel(\"str\")"
   ]
  },
  {
   "cell_type": "code",
   "execution_count": 84,
   "id": "eb6a30ce",
   "metadata": {
    "collapsed": true
   },
   "outputs": [
    {
     "data": {
      "text/plain": [
       "Text(0, 0.5, '收益率')"
      ]
     },
     "execution_count": 84,
     "metadata": {},
     "output_type": "execute_result"
    },
    {
     "data": {
      "image/png": "[encoded data removed]",
      "text/plain": [
       "<Figure size 432x288 with 1 Axes>"
      ]
     },
     "metadata": {
      "needs_background": "light"
     },
     "output_type": "display_data"
    }
   ],
   "source": [
    "# 设定图形标签、\n",
    "plt.plot(FIA__data)\n",
    "plt.xlabel(\"日期\")\n",
    "plt.ylabel(\"收益率\")"
   ]
  },
  {
   "cell_type": "markdown",
   "id": "2bc68611",
   "metadata": {},
   "source": [
    "### 2.2.3增加图形背景\n",
    "\n",
    "    plt.grid(b=None, which=\"major/minor/both\",axis=\"x/y/both\")\n",
    "b表示是否要显示图形背景"
   ]
  },
  {
   "cell_type": "code",
   "execution_count": 85,
   "id": "1ed37557",
   "metadata": {
    "collapsed": true
   },
   "outputs": [
    {
     "data": {
      "image/png": "[encoded data removed]",
      "text/plain": [
       "<Figure size 432x288 with 1 Axes>"
      ]
     },
     "metadata": {
      "needs_background": "light"
     },
     "output_type": "display_data"
    }
   ],
   "source": [
    "plt.plot(FIA__data)\n",
    "plt.grid(True, \"major\", axis=\"both\")"
   ]
  },
  {
   "cell_type": "markdown",
   "id": "bf91d502",
   "metadata": {},
   "source": [
    "### 2.2.4增加图例及线条属性\n",
    "* 增加图例<br>\n",
    "    plt.legend(loc)<br>\n",
    "loc表示图例的位置，常用best\n",
    "* 线条属性<br>\n",
    "    plt.plot(linestyle/ls=\".\", color/c=\"\"r)<br>\n",
    " 线条属性linestyle/ls可用参数主要有:\n",
    "    \"-\",\"_\",\"-.\",\" \",\":\"。<br>\n",
    " 线条颜色为color/c\n",
    "    "
   ]
  },
  {
   "cell_type": "code",
   "execution_count": 86,
   "id": "f5636670",
   "metadata": {
    "collapsed": true
   },
   "outputs": [
    {
     "data": {
      "text/plain": [
       "<matplotlib.legend.Legend at 0x243fa8bddf0>"
      ]
     },
     "execution_count": 86,
     "metadata": {},
     "output_type": "execute_result"
    },
    {
     "data": {
      "image/png": "[encoded data removed]",
      "text/plain": [
       "<Figure size 432x288 with 1 Axes>"
      ]
     },
     "metadata": {
      "needs_background": "light"
     },
     "output_type": "display_data"
    }
   ],
   "source": [
    "plt.plot(FIA__data, label=\"FIA\", c=\"c\")\n",
    "plt.plot(RV_data, label=\"RV\", c=\"g\")\n",
    "plt.legend(\"best\")"
   ]
  },
  {
   "cell_type": "markdown",
   "id": "d6c1f773",
   "metadata": {},
   "source": [
    "### 2.2.5子图绘制和多图绘制"
   ]
  },
  {
   "cell_type": "code",
   "execution_count": 106,
   "id": "eb6993eb",
   "metadata": {
    "collapsed": true
   },
   "outputs": [
    {
     "data": {
      "text/plain": [
       "Text(0.5, 1.0, 'rate')"
      ]
     },
     "execution_count": 106,
     "metadata": {},
     "output_type": "execute_result"
    },
    {
     "data": {
      "image/png": "[encoded data removed]",
      "text/plain": [
       "<Figure size 432x288 with 1 Axes>"
      ]
     },
     "metadata": {
      "needs_background": "light"
     },
     "output_type": "display_data"
    }
   ],
   "source": [
    "# 子图绘制——自定义绘图\n",
    "# 创建 axes对象，相当于拿出来一张白纸\n",
    "fig = plt.figure()\n",
    "# axes的存在依赖于fig，，在白纸上画好区域\n",
    "ax = fig.add_axes([0,0,0.5,0.5])  # 前两个数字表示坐标（0，0），后两个数字表示长和宽\n",
    "# 以下表达式为添加图标信息\n",
    "ax.set_label(\"date\")\n",
    "ax.set_xlim(0,1)\n",
    "ax.set_title(\"rate\")\n",
    "# ax.set_xticklabels(\"\")"
   ]
  },
  {
   "cell_type": "code",
   "execution_count": 109,
   "id": "4334617a",
   "metadata": {
    "collapsed": true
   },
   "outputs": [
    {
     "name": "stderr",
     "output_type": "stream",
     "text": [
      "<ipython-input-109-1acb84803ab3>:3: MatplotlibDeprecationWarning: Adding an axes using the same arguments as a previous axes currently reuses the earlier instance.  In a future version, a new instance will always be created and returned.  Meanwhile, this warning can be suppressed, and the future behavior ensured, by passing a unique label to each axes instance.\n",
      "  ax2 = plt.subplot(221)\n",
      "<ipython-input-109-1acb84803ab3>:4: MatplotlibDeprecationWarning: Adding an axes using the same arguments as a previous axes currently reuses the earlier instance.  In a future version, a new instance will always be created and returned.  Meanwhile, this warning can be suppressed, and the future behavior ensured, by passing a unique label to each axes instance.\n",
      "  ax3 = plt.subplot(221)\n",
      "<ipython-input-109-1acb84803ab3>:5: MatplotlibDeprecationWarning: Adding an axes using the same arguments as a previous axes currently reuses the earlier instance.  In a future version, a new instance will always be created and returned.  Meanwhile, this warning can be suppressed, and the future behavior ensured, by passing a unique label to each axes instance.\n",
      "  ax4 = plt.subplot(221)\n"
     ]
    },
    {
     "data": {
      "image/png": "[encoded data removed]",
      "text/plain": [
       "<Figure size 432x288 with 1 Axes>"
      ]
     },
     "metadata": {
      "needs_background": "light"
     },
     "output_type": "display_data"
    }
   ],
   "source": [
    "# 子图绘制——subplot绘图\n",
    "ax1 = plt.subplot(221)\n",
    "ax2 = plt.subplot(221)\n",
    "ax3 = plt.subplot(221)\n",
    "ax4 = plt.subplot(221)\n",
    "# 22表示一共有四个图，为2\\*2矩阵形式，1，2，3，4表示第几张图"
   ]
  },
  {
   "cell_type": "code",
   "execution_count": 108,
   "id": "00b0b78f",
   "metadata": {
    "collapsed": true
   },
   "outputs": [
    {
     "data": {
      "text/plain": [
       "Text(0.5, 1.0, '两种模式下的收益率曲线')"
      ]
     },
     "execution_count": 108,
     "metadata": {},
     "output_type": "execute_result"
    },
    {
     "data": {
      "image/png": "[encoded data removed]",
      "text/plain": [
       "<Figure size 432x288 with 1 Axes>"
      ]
     },
     "metadata": {
      "needs_background": "light"
     },
     "output_type": "display_data"
    }
   ],
   "source": [
    "# 多曲线绘制\n",
    "fig = plt.figure() # 创建fig对象\n",
    "ax = fig.add_axes([0, 0, 0.8, 0.8]) # 创建ax对象  \n",
    "ax.plot(FIA__data, \"--*\", c=\"r\")\n",
    "ax.plot(RV_data, \".-\", c=\"b\")\n",
    "ax.set_xlabel(\"日期\")\n",
    "ax.set_title(\"两种模式下的收益率曲线\")"
   ]
  }
 ],
 "metadata": {
  "kernelspec": {
   "display_name": "Python 3",
   "language": "python",
   "name": "python3"
  },
  "language_info": {
   "codemirror_mode": {
    "name": "ipython",
    "version": 3
   },
   "file_extension": ".py",
   "mimetype": "text/x-python",
   "name": "python",
   "nbconvert_exporter": "python",
   "pygments_lexer": "ipython3",
   "version": "3.8.8"
  }
 },
 "nbformat": 4,
 "nbformat_minor": 5
}
